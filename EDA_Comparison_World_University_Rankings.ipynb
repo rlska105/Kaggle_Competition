{
 "cells": [
  {
   "cell_type": "code",
   "execution_count": 1,
   "metadata": {},
   "outputs": [],
   "source": [
    "import numpy as np\n",
    "import pandas as pd\n",
    "\n",
    "%matplotlib inline\n",
    "import matplotlib\n",
    "import matplotlib.pyplot as plt\n",
    "import seaborn as sns\n",
    "from collections import Counter\n",
    "\n",
    "\n",
    "# for visualization\n",
    "import plotly.graph_objs as go\n",
    "import plotly.express as px"
   ]
  },
  {
   "cell_type": "code",
   "execution_count": 2,
   "metadata": {},
   "outputs": [],
   "source": [
    "times = pd.read_csv('/Users/kimginam/Kaggle/DATA/timesData.csv')"
   ]
  },
  {
   "cell_type": "code",
   "execution_count": 3,
   "metadata": {},
   "outputs": [],
   "source": [
    "south_korea = times.loc[times['country'] == 'South Korea']\n",
    "United_States_of_America = times.loc[times['country'] == 'United States of America']\n",
    "United_Kingdom = times.loc[times['country'] == 'United Kingdom']\n",
    "Germany = times.loc[times['country'] == 'Germany']\n",
    "Australia = times.loc[times['country'] == 'Australia']\n",
    "Canada = times.loc[times['country'] == 'Canada']\n",
    "Japan = times.loc[times['country'] == 'Japan']\n",
    "Italy = times.loc[times['country'] == 'Italy']\n",
    "Spain = times.loc[times['country'] == 'Spain']\n",
    "China = times.loc[times['country'] == 'China']\n",
    "Netherlands = times.loc[times['country'] == 'Netherlands']\n",
    "France = times.loc[times['country'] == 'France']\n",
    "Taiwan = times.loc[times['country'] == 'Taiwan']\n",
    "Sweden = times.loc[times['country'] == 'Sweden']\n",
    "Switzerland = times.loc[times['country'] == 'Switzerland']"
   ]
  },
  {
   "cell_type": "code",
   "execution_count": 4,
   "metadata": {},
   "outputs": [
    {
     "data": {
      "text/plain": [
       "24"
      ]
     },
     "execution_count": 4,
     "metadata": {},
     "output_type": "execute_result"
    }
   ],
   "source": [
    "south_korea['university_name'].value_counts().count()"
   ]
  },
  {
   "cell_type": "code",
   "execution_count": 5,
   "metadata": {},
   "outputs": [
    {
     "data": {
      "text/plain": [
       "world_rank                77\n",
       "university_name           77\n",
       "country                   77\n",
       "teaching                  77\n",
       "international             77\n",
       "research                  77\n",
       "citations                 77\n",
       "income                    77\n",
       "total_score               77\n",
       "num_students              75\n",
       "student_staff_ratio       75\n",
       "international_students    75\n",
       "female_male_ratio         75\n",
       "year                      77\n",
       "dtype: int64"
      ]
     },
     "execution_count": 5,
     "metadata": {},
     "output_type": "execute_result"
    }
   ],
   "source": [
    "United_Kingdom.loc[United_Kingdom['year'] == 2016].count()"
   ]
  },
  {
   "cell_type": "code",
   "execution_count": 6,
   "metadata": {},
   "outputs": [],
   "source": [
    "south_korea_2016 = south_korea.loc[south_korea['year'] == 2016]"
   ]
  },
  {
   "cell_type": "code",
   "execution_count": 7,
   "metadata": {},
   "outputs": [
    {
     "name": "stderr",
     "output_type": "stream",
     "text": [
      "/opt/anaconda3/lib/python3.7/site-packages/ipykernel_launcher.py:1: SettingWithCopyWarning: \n",
      "A value is trying to be set on a copy of a slice from a DataFrame.\n",
      "Try using .loc[row_indexer,col_indexer] = value instead\n",
      "\n",
      "See the caveats in the documentation: https://pandas.pydata.org/pandas-docs/stable/user_guide/indexing.html#returning-a-view-versus-a-copy\n",
      "  \"\"\"Entry point for launching an IPython kernel.\n"
     ]
    }
   ],
   "source": [
    "south_korea_2016['num_students'] = south_korea_2016.num_students.str.replace(',', '').astype(int)"
   ]
  },
  {
   "cell_type": "code",
   "execution_count": 8,
   "metadata": {},
   "outputs": [
    {
     "data": {
      "text/html": [
       "<div>\n",
       "<style scoped>\n",
       "    .dataframe tbody tr th:only-of-type {\n",
       "        vertical-align: middle;\n",
       "    }\n",
       "\n",
       "    .dataframe tbody tr th {\n",
       "        vertical-align: top;\n",
       "    }\n",
       "\n",
       "    .dataframe thead th {\n",
       "        text-align: right;\n",
       "    }\n",
       "</style>\n",
       "<table border=\"1\" class=\"dataframe\">\n",
       "  <thead>\n",
       "    <tr style=\"text-align: right;\">\n",
       "      <th></th>\n",
       "      <th>world_rank</th>\n",
       "      <th>university_name</th>\n",
       "      <th>country</th>\n",
       "      <th>teaching</th>\n",
       "      <th>international</th>\n",
       "      <th>research</th>\n",
       "      <th>citations</th>\n",
       "      <th>income</th>\n",
       "      <th>total_score</th>\n",
       "      <th>num_students</th>\n",
       "      <th>student_staff_ratio</th>\n",
       "      <th>international_students</th>\n",
       "      <th>female_male_ratio</th>\n",
       "      <th>year</th>\n",
       "    </tr>\n",
       "  </thead>\n",
       "  <tbody>\n",
       "    <tr>\n",
       "      <th>78</th>\n",
       "      <td>79</td>\n",
       "      <td>Korea Advanced Institute of Science and Techno...</td>\n",
       "      <td>South Korea</td>\n",
       "      <td>71.3</td>\n",
       "      <td>36.7</td>\n",
       "      <td>63.4</td>\n",
       "      <td>45.5</td>\n",
       "      <td>100.0</td>\n",
       "      <td>59.5</td>\n",
       "      <td>9,027</td>\n",
       "      <td>10.0</td>\n",
       "      <td>9%</td>\n",
       "      <td>20 : 80</td>\n",
       "      <td>2011</td>\n",
       "    </tr>\n",
       "    <tr>\n",
       "      <th>293</th>\n",
       "      <td>94</td>\n",
       "      <td>Korea Advanced Institute of Science and Techno...</td>\n",
       "      <td>South Korea</td>\n",
       "      <td>64.2</td>\n",
       "      <td>29.3</td>\n",
       "      <td>54.6</td>\n",
       "      <td>47.1</td>\n",
       "      <td>100.0</td>\n",
       "      <td>54.5</td>\n",
       "      <td>9,027</td>\n",
       "      <td>10.0</td>\n",
       "      <td>9%</td>\n",
       "      <td>20 : 80</td>\n",
       "      <td>2012</td>\n",
       "    </tr>\n",
       "    <tr>\n",
       "      <th>669</th>\n",
       "      <td>68</td>\n",
       "      <td>Korea Advanced Institute of Science and Techno...</td>\n",
       "      <td>South Korea</td>\n",
       "      <td>69.9</td>\n",
       "      <td>31.1</td>\n",
       "      <td>68.9</td>\n",
       "      <td>58.4</td>\n",
       "      <td>100.0</td>\n",
       "      <td>64.0</td>\n",
       "      <td>9,027</td>\n",
       "      <td>10.0</td>\n",
       "      <td>9%</td>\n",
       "      <td>20 : 80</td>\n",
       "      <td>2013</td>\n",
       "    </tr>\n",
       "    <tr>\n",
       "      <th>1057</th>\n",
       "      <td>56</td>\n",
       "      <td>Korea Advanced Institute of Science and Techno...</td>\n",
       "      <td>South Korea</td>\n",
       "      <td>65.6</td>\n",
       "      <td>34.3</td>\n",
       "      <td>60.0</td>\n",
       "      <td>67.0</td>\n",
       "      <td>100.0</td>\n",
       "      <td>62.9</td>\n",
       "      <td>9,027</td>\n",
       "      <td>10.0</td>\n",
       "      <td>9%</td>\n",
       "      <td>20 : 80</td>\n",
       "      <td>2014</td>\n",
       "    </tr>\n",
       "    <tr>\n",
       "      <th>1453</th>\n",
       "      <td>52</td>\n",
       "      <td>Korea Advanced Institute of Science and Techno...</td>\n",
       "      <td>South Korea</td>\n",
       "      <td>63.5</td>\n",
       "      <td>34.9</td>\n",
       "      <td>63.2</td>\n",
       "      <td>71.4</td>\n",
       "      <td>100.0</td>\n",
       "      <td>64.5</td>\n",
       "      <td>9,027</td>\n",
       "      <td>10.0</td>\n",
       "      <td>9%</td>\n",
       "      <td>20 : 80</td>\n",
       "      <td>2015</td>\n",
       "    </tr>\n",
       "    <tr>\n",
       "      <th>1951</th>\n",
       "      <td>148</td>\n",
       "      <td>Korea Advanced Institute of Science and Techno...</td>\n",
       "      <td>South Korea</td>\n",
       "      <td>43.3</td>\n",
       "      <td>33.9</td>\n",
       "      <td>40.5</td>\n",
       "      <td>75.9</td>\n",
       "      <td>100.0</td>\n",
       "      <td>53.0</td>\n",
       "      <td>9,027</td>\n",
       "      <td>10.0</td>\n",
       "      <td>9%</td>\n",
       "      <td>20 : 80</td>\n",
       "      <td>2016</td>\n",
       "    </tr>\n",
       "  </tbody>\n",
       "</table>\n",
       "</div>"
      ],
      "text/plain": [
       "     world_rank                                    university_name  \\\n",
       "78           79  Korea Advanced Institute of Science and Techno...   \n",
       "293          94  Korea Advanced Institute of Science and Techno...   \n",
       "669          68  Korea Advanced Institute of Science and Techno...   \n",
       "1057         56  Korea Advanced Institute of Science and Techno...   \n",
       "1453         52  Korea Advanced Institute of Science and Techno...   \n",
       "1951        148  Korea Advanced Institute of Science and Techno...   \n",
       "\n",
       "          country  teaching international  research  citations income  \\\n",
       "78    South Korea      71.3          36.7      63.4       45.5  100.0   \n",
       "293   South Korea      64.2          29.3      54.6       47.1  100.0   \n",
       "669   South Korea      69.9          31.1      68.9       58.4  100.0   \n",
       "1057  South Korea      65.6          34.3      60.0       67.0  100.0   \n",
       "1453  South Korea      63.5          34.9      63.2       71.4  100.0   \n",
       "1951  South Korea      43.3          33.9      40.5       75.9  100.0   \n",
       "\n",
       "     total_score num_students  student_staff_ratio international_students  \\\n",
       "78          59.5        9,027                 10.0                     9%   \n",
       "293         54.5        9,027                 10.0                     9%   \n",
       "669         64.0        9,027                 10.0                     9%   \n",
       "1057        62.9        9,027                 10.0                     9%   \n",
       "1453        64.5        9,027                 10.0                     9%   \n",
       "1951        53.0        9,027                 10.0                     9%   \n",
       "\n",
       "     female_male_ratio  year  \n",
       "78             20 : 80  2011  \n",
       "293            20 : 80  2012  \n",
       "669            20 : 80  2013  \n",
       "1057           20 : 80  2014  \n",
       "1453           20 : 80  2015  \n",
       "1951           20 : 80  2016  "
      ]
     },
     "execution_count": 8,
     "metadata": {},
     "output_type": "execute_result"
    }
   ],
   "source": [
    "south_korea.loc[south_korea['university_name'] == 'Korea Advanced Institute of Science']\n",
    "south_korea[south_korea['university_name'].str.contains(\"Korea Advanced Institute of Science\")]"
   ]
  },
  {
   "cell_type": "code",
   "execution_count": null,
   "metadata": {},
   "outputs": [],
   "source": []
  }
 ],
 "metadata": {
  "kernelspec": {
   "display_name": "Python 3",
   "language": "python",
   "name": "python3"
  },
  "language_info": {
   "codemirror_mode": {
    "name": "ipython",
    "version": 3
   },
   "file_extension": ".py",
   "mimetype": "text/x-python",
   "name": "python",
   "nbconvert_exporter": "python",
   "pygments_lexer": "ipython3",
   "version": "3.7.6"
  }
 },
 "nbformat": 4,
 "nbformat_minor": 4
}
